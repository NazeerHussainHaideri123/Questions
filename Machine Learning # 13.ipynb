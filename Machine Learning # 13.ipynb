{
 "cells": [
  {
   "cell_type": "code",
   "execution_count": 1,
   "id": "0ae7c24d",
   "metadata": {},
   "outputs": [],
   "source": [
    "# Implement Naive Bayes algorithm for text classification and apply it to classify movie reviews as positive or negative."
   ]
  },
  {
   "cell_type": "code",
   "execution_count": 3,
   "id": "25e30004",
   "metadata": {},
   "outputs": [
    {
     "name": "stdout",
     "output_type": "stream",
     "text": [
      "Collecting nltk\n",
      "  Downloading nltk-3.8.1-py3-none-any.whl (1.5 MB)\n",
      "     ---------------------------------------- 0.0/1.5 MB ? eta -:--:--\n",
      "     - -------------------------------------- 0.1/1.5 MB 2.0 MB/s eta 0:00:01\n",
      "     -- ------------------------------------- 0.1/1.5 MB 1.7 MB/s eta 0:00:01\n",
      "     -- ------------------------------------- 0.1/1.5 MB 1.7 MB/s eta 0:00:01\n",
      "     ------- -------------------------------- 0.3/1.5 MB 1.8 MB/s eta 0:00:01\n",
      "     ------- -------------------------------- 0.3/1.5 MB 1.5 MB/s eta 0:00:01\n",
      "     ------- -------------------------------- 0.3/1.5 MB 1.5 MB/s eta 0:00:01\n",
      "     -------- ------------------------------- 0.3/1.5 MB 1.1 MB/s eta 0:00:02\n",
      "     ----------- ---------------------------- 0.5/1.5 MB 1.2 MB/s eta 0:00:01\n",
      "     ----------- ---------------------------- 0.5/1.5 MB 1.2 MB/s eta 0:00:01\n",
      "     ------------ --------------------------- 0.5/1.5 MB 1.0 MB/s eta 0:00:02\n",
      "     ------------- -------------------------- 0.5/1.5 MB 994.2 kB/s eta 0:00:01\n",
      "     -------------- ------------------------- 0.5/1.5 MB 1.0 MB/s eta 0:00:01\n",
      "     --------------- ------------------------ 0.6/1.5 MB 967.0 kB/s eta 0:00:01\n",
      "     ----------------- ---------------------- 0.7/1.5 MB 983.4 kB/s eta 0:00:01\n",
      "     ------------------ --------------------- 0.7/1.5 MB 983.8 kB/s eta 0:00:01\n",
      "     ------------------ --------------------- 0.7/1.5 MB 969.8 kB/s eta 0:00:01\n",
      "     ------------------- -------------------- 0.7/1.5 MB 944.0 kB/s eta 0:00:01\n",
      "     -------------------- ------------------- 0.8/1.5 MB 923.2 kB/s eta 0:00:01\n",
      "     --------------------- ------------------ 0.8/1.5 MB 870.3 kB/s eta 0:00:01\n",
      "     --------------------- ------------------ 0.8/1.5 MB 892.9 kB/s eta 0:00:01\n",
      "     --------------------- ------------------ 0.8/1.5 MB 859.6 kB/s eta 0:00:01\n",
      "     ----------------------- ---------------- 0.9/1.5 MB 834.3 kB/s eta 0:00:01\n",
      "     ----------------------- ---------------- 0.9/1.5 MB 807.4 kB/s eta 0:00:01\n",
      "     ----------------------- ---------------- 0.9/1.5 MB 791.9 kB/s eta 0:00:01\n",
      "     ------------------------ --------------- 0.9/1.5 MB 776.4 kB/s eta 0:00:01\n",
      "     ------------------------- -------------- 1.0/1.5 MB 773.5 kB/s eta 0:00:01\n",
      "     ------------------------- -------------- 1.0/1.5 MB 761.9 kB/s eta 0:00:01\n",
      "     -------------------------- ------------- 1.0/1.5 MB 749.3 kB/s eta 0:00:01\n",
      "     --------------------------- ------------ 1.0/1.5 MB 753.5 kB/s eta 0:00:01\n",
      "     ---------------------------- ----------- 1.1/1.5 MB 750.2 kB/s eta 0:00:01\n",
      "     ---------------------------- ----------- 1.1/1.5 MB 725.4 kB/s eta 0:00:01\n",
      "     ---------------------------- ----------- 1.1/1.5 MB 725.4 kB/s eta 0:00:01\n",
      "     ----------------------------- ---------- 1.1/1.5 MB 714.9 kB/s eta 0:00:01\n",
      "     ------------------------------ --------- 1.1/1.5 MB 706.4 kB/s eta 0:00:01\n",
      "     ------------------------------ --------- 1.2/1.5 MB 699.3 kB/s eta 0:00:01\n",
      "     ------------------------------- -------- 1.2/1.5 MB 697.5 kB/s eta 0:00:01\n",
      "     ------------------------------- -------- 1.2/1.5 MB 690.9 kB/s eta 0:00:01\n",
      "     -------------------------------- ------- 1.2/1.5 MB 684.2 kB/s eta 0:00:01\n",
      "     --------------------------------- ------ 1.3/1.5 MB 672.0 kB/s eta 0:00:01\n",
      "     --------------------------------- ------ 1.3/1.5 MB 671.8 kB/s eta 0:00:01\n",
      "     ---------------------------------- ----- 1.3/1.5 MB 660.8 kB/s eta 0:00:01\n",
      "     ---------------------------------- ----- 1.3/1.5 MB 660.8 kB/s eta 0:00:01\n",
      "     ---------------------------------- ----- 1.3/1.5 MB 650.5 kB/s eta 0:00:01\n",
      "     ----------------------------------- ---- 1.3/1.5 MB 645.6 kB/s eta 0:00:01\n",
      "     ----------------------------------- ---- 1.4/1.5 MB 636.1 kB/s eta 0:00:01\n",
      "     ------------------------------------ --- 1.4/1.5 MB 627.0 kB/s eta 0:00:01\n",
      "     ------------------------------------ --- 1.4/1.5 MB 618.6 kB/s eta 0:00:01\n",
      "     ------------------------------------- -- 1.4/1.5 MB 619.0 kB/s eta 0:00:01\n",
      "     ------------------------------------- -- 1.4/1.5 MB 607.0 kB/s eta 0:00:01\n",
      "     ------------------------------------- -- 1.4/1.5 MB 607.5 kB/s eta 0:00:01\n",
      "     -------------------------------------- - 1.5/1.5 MB 604.1 kB/s eta 0:00:01\n",
      "     -------------------------------------- - 1.5/1.5 MB 596.7 kB/s eta 0:00:01\n",
      "     -------------------------------------- - 1.5/1.5 MB 596.7 kB/s eta 0:00:01\n",
      "     ---------------------------------------  1.5/1.5 MB 578.9 kB/s eta 0:00:01\n",
      "     ---------------------------------------  1.5/1.5 MB 576.6 kB/s eta 0:00:01\n",
      "     ---------------------------------------  1.5/1.5 MB 576.6 kB/s eta 0:00:01\n",
      "     ---------------------------------------- 1.5/1.5 MB 561.5 kB/s eta 0:00:00\n",
      "Requirement already satisfied: scikit-learn in c:\\users\\pc2\\appdata\\local\\programs\\python\\python311\\lib\\site-packages (1.3.0)\n",
      "Collecting click (from nltk)\n",
      "  Obtaining dependency information for click from https://files.pythonhosted.org/packages/00/2e/d53fa4befbf2cfa713304affc7ca780ce4fc1fd8710527771b58311a3229/click-8.1.7-py3-none-any.whl.metadata\n",
      "  Downloading click-8.1.7-py3-none-any.whl.metadata (3.0 kB)\n",
      "Requirement already satisfied: joblib in c:\\users\\pc2\\appdata\\local\\programs\\python\\python311\\lib\\site-packages (from nltk) (1.3.1)\n",
      "Collecting regex>=2021.8.3 (from nltk)\n",
      "  Obtaining dependency information for regex>=2021.8.3 from https://files.pythonhosted.org/packages/de/cd/d80c9e284ae6c1b2172dacf0651d25b78ee1f7efbc12d74ea7b87c766263/regex-2023.8.8-cp311-cp311-win_amd64.whl.metadata\n",
      "  Downloading regex-2023.8.8-cp311-cp311-win_amd64.whl.metadata (42 kB)\n",
      "     ---------------------------------------- 0.0/42.0 kB ? eta -:--:--\n",
      "     ---------------------------------------- 0.0/42.0 kB ? eta -:--:--\n",
      "     --------- ------------------------------ 10.2/42.0 kB ? eta -:--:--\n",
      "     -------------------------------------  41.0/42.0 kB 495.5 kB/s eta 0:00:01\n",
      "     -------------------------------------- 42.0/42.0 kB 341.7 kB/s eta 0:00:00\n",
      "Collecting tqdm (from nltk)\n",
      "  Obtaining dependency information for tqdm from https://files.pythonhosted.org/packages/00/e5/f12a80907d0884e6dff9c16d0c0114d81b8cd07dc3ae54c5e962cc83037e/tqdm-4.66.1-py3-none-any.whl.metadata\n",
      "  Downloading tqdm-4.66.1-py3-none-any.whl.metadata (57 kB)\n",
      "     ---------------------------------------- 0.0/57.6 kB ? eta -:--:--\n",
      "     ------- -------------------------------- 10.2/57.6 kB ? eta -:--:--\n",
      "     -------------------- ----------------- 30.7/57.6 kB 660.6 kB/s eta 0:00:01\n",
      "     --------------------------------- ---- 51.2/57.6 kB 525.1 kB/s eta 0:00:01\n",
      "     -------------------------------------- 57.6/57.6 kB 434.6 kB/s eta 0:00:00\n",
      "Requirement already satisfied: numpy>=1.17.3 in c:\\users\\pc2\\appdata\\local\\programs\\python\\python311\\lib\\site-packages (from scikit-learn) (1.25.0)\n",
      "Requirement already satisfied: scipy>=1.5.0 in c:\\users\\pc2\\appdata\\local\\programs\\python\\python311\\lib\\site-packages (from scikit-learn) (1.11.1)\n",
      "Requirement already satisfied: threadpoolctl>=2.0.0 in c:\\users\\pc2\\appdata\\local\\programs\\python\\python311\\lib\\site-packages (from scikit-learn) (3.1.0)\n",
      "Requirement already satisfied: colorama in c:\\users\\pc2\\appdata\\local\\programs\\python\\python311\\lib\\site-packages (from click->nltk) (0.4.6)\n",
      "Downloading regex-2023.8.8-cp311-cp311-win_amd64.whl (268 kB)\n",
      "   ---------------------------------------- 0.0/268.3 kB ? eta -:--:--\n",
      "   - -------------------------------------- 10.2/268.3 kB ? eta -:--:--\n",
      "   ----- --------------------------------- 41.0/268.3 kB 495.5 kB/s eta 0:00:01\n",
      "   ---------- ---------------------------- 71.7/268.3 kB 563.7 kB/s eta 0:00:01\n",
      "   ----------------- -------------------- 122.9/268.3 kB 658.7 kB/s eta 0:00:01\n",
      "   --------------------- ---------------- 153.6/268.3 kB 657.6 kB/s eta 0:00:01\n",
      "   -------------------------- ----------- 184.3/268.3 kB 656.9 kB/s eta 0:00:01\n",
      "   ------------------------------- ------ 225.3/268.3 kB 726.5 kB/s eta 0:00:01\n",
      "   -------------------------------------  266.2/268.3 kB 746.4 kB/s eta 0:00:01\n",
      "   -------------------------------------- 268.3/268.3 kB 661.8 kB/s eta 0:00:00\n",
      "Downloading click-8.1.7-py3-none-any.whl (97 kB)\n",
      "   ---------------------------------------- 0.0/97.9 kB ? eta -:--:--\n",
      "   ------------ --------------------------- 30.7/97.9 kB 1.4 MB/s eta 0:00:01\n",
      "   ------------------------- -------------- 61.4/97.9 kB 1.1 MB/s eta 0:00:01\n",
      "   ------------------------------------- -- 92.2/97.9 kB 880.9 kB/s eta 0:00:01\n",
      "   ---------------------------------------- 97.9/97.9 kB 701.6 kB/s eta 0:00:00\n",
      "Downloading tqdm-4.66.1-py3-none-any.whl (78 kB)\n",
      "   ---------------------------------------- 0.0/78.3 kB ? eta -:--:--\n",
      "   -------------------- ------------------- 41.0/78.3 kB 991.0 kB/s eta 0:00:01\n",
      "   ------------------------------------ --- 71.7/78.3 kB 975.2 kB/s eta 0:00:01\n",
      "   ---------------------------------------- 78.3/78.3 kB 618.3 kB/s eta 0:00:00\n",
      "Installing collected packages: tqdm, regex, click, nltk\n",
      "Successfully installed click-8.1.7 nltk-3.8.1 regex-2023.8.8 tqdm-4.66.1\n",
      "Note: you may need to restart the kernel to use updated packages.\n"
     ]
    }
   ],
   "source": [
    "pip install nltk scikit-learn"
   ]
  },
  {
   "cell_type": "code",
   "execution_count": 4,
   "id": "a8bc2c9d",
   "metadata": {},
   "outputs": [],
   "source": [
    "import nltk\n",
    "from sklearn.feature_extraction.text import CountVectorizer\n",
    "from sklearn.naive_bayes import MultinomialNB\n",
    "from sklearn.pipeline import Pipeline\n",
    "from sklearn.metrics import accuracy_score, classification_report\n",
    "from sklearn.model_selection import train_test_split\n"
   ]
  },
  {
   "cell_type": "code",
   "execution_count": 5,
   "id": "add6230c",
   "metadata": {},
   "outputs": [
    {
     "name": "stderr",
     "output_type": "stream",
     "text": [
      "[nltk_data] Downloading package movie_reviews to\n",
      "[nltk_data]     C:\\Users\\PC2\\AppData\\Roaming\\nltk_data...\n",
      "[nltk_data]   Unzipping corpora\\movie_reviews.zip.\n"
     ]
    },
    {
     "data": {
      "text/plain": [
       "True"
      ]
     },
     "execution_count": 5,
     "metadata": {},
     "output_type": "execute_result"
    }
   ],
   "source": [
    "nltk.download('movie_reviews')"
   ]
  },
  {
   "cell_type": "code",
   "execution_count": 6,
   "id": "c5b84252",
   "metadata": {},
   "outputs": [],
   "source": [
    "from nltk.corpus import movie_reviews\n"
   ]
  },
  {
   "cell_type": "code",
   "execution_count": 7,
   "id": "43fd9981",
   "metadata": {},
   "outputs": [],
   "source": [
    "reviews = []\n",
    "for category in movie_reviews.categories():\n",
    "    for fileid in movie_reviews.fileids(category):\n",
    "        reviews.append((movie_reviews.words(fileid), category))\n"
   ]
  },
  {
   "cell_type": "code",
   "execution_count": 8,
   "id": "3119b8d3",
   "metadata": {},
   "outputs": [],
   "source": [
    "X = [' '.join(words) for words, _ in reviews]\n",
    "y = [category for _, category in reviews]"
   ]
  },
  {
   "cell_type": "code",
   "execution_count": 9,
   "id": "dc53e446",
   "metadata": {},
   "outputs": [],
   "source": [
    "X_train, X_test, y_train, y_test = train_test_split(X, y, test_size=0.2, random_state=42)\n"
   ]
  },
  {
   "cell_type": "code",
   "execution_count": 10,
   "id": "9e244cc8",
   "metadata": {},
   "outputs": [],
   "source": [
    "pipeline = Pipeline([\n",
    "    ('vectorizer', CountVectorizer()),\n",
    "    ('classifier', MultinomialNB())\n",
    "])"
   ]
  },
  {
   "cell_type": "code",
   "execution_count": 12,
   "id": "6777a672",
   "metadata": {},
   "outputs": [
    {
     "data": {
      "text/html": [
       "<style>#sk-container-id-1 {color: black;}#sk-container-id-1 pre{padding: 0;}#sk-container-id-1 div.sk-toggleable {background-color: white;}#sk-container-id-1 label.sk-toggleable__label {cursor: pointer;display: block;width: 100%;margin-bottom: 0;padding: 0.3em;box-sizing: border-box;text-align: center;}#sk-container-id-1 label.sk-toggleable__label-arrow:before {content: \"▸\";float: left;margin-right: 0.25em;color: #696969;}#sk-container-id-1 label.sk-toggleable__label-arrow:hover:before {color: black;}#sk-container-id-1 div.sk-estimator:hover label.sk-toggleable__label-arrow:before {color: black;}#sk-container-id-1 div.sk-toggleable__content {max-height: 0;max-width: 0;overflow: hidden;text-align: left;background-color: #f0f8ff;}#sk-container-id-1 div.sk-toggleable__content pre {margin: 0.2em;color: black;border-radius: 0.25em;background-color: #f0f8ff;}#sk-container-id-1 input.sk-toggleable__control:checked~div.sk-toggleable__content {max-height: 200px;max-width: 100%;overflow: auto;}#sk-container-id-1 input.sk-toggleable__control:checked~label.sk-toggleable__label-arrow:before {content: \"▾\";}#sk-container-id-1 div.sk-estimator input.sk-toggleable__control:checked~label.sk-toggleable__label {background-color: #d4ebff;}#sk-container-id-1 div.sk-label input.sk-toggleable__control:checked~label.sk-toggleable__label {background-color: #d4ebff;}#sk-container-id-1 input.sk-hidden--visually {border: 0;clip: rect(1px 1px 1px 1px);clip: rect(1px, 1px, 1px, 1px);height: 1px;margin: -1px;overflow: hidden;padding: 0;position: absolute;width: 1px;}#sk-container-id-1 div.sk-estimator {font-family: monospace;background-color: #f0f8ff;border: 1px dotted black;border-radius: 0.25em;box-sizing: border-box;margin-bottom: 0.5em;}#sk-container-id-1 div.sk-estimator:hover {background-color: #d4ebff;}#sk-container-id-1 div.sk-parallel-item::after {content: \"\";width: 100%;border-bottom: 1px solid gray;flex-grow: 1;}#sk-container-id-1 div.sk-label:hover label.sk-toggleable__label {background-color: #d4ebff;}#sk-container-id-1 div.sk-serial::before {content: \"\";position: absolute;border-left: 1px solid gray;box-sizing: border-box;top: 0;bottom: 0;left: 50%;z-index: 0;}#sk-container-id-1 div.sk-serial {display: flex;flex-direction: column;align-items: center;background-color: white;padding-right: 0.2em;padding-left: 0.2em;position: relative;}#sk-container-id-1 div.sk-item {position: relative;z-index: 1;}#sk-container-id-1 div.sk-parallel {display: flex;align-items: stretch;justify-content: center;background-color: white;position: relative;}#sk-container-id-1 div.sk-item::before, #sk-container-id-1 div.sk-parallel-item::before {content: \"\";position: absolute;border-left: 1px solid gray;box-sizing: border-box;top: 0;bottom: 0;left: 50%;z-index: -1;}#sk-container-id-1 div.sk-parallel-item {display: flex;flex-direction: column;z-index: 1;position: relative;background-color: white;}#sk-container-id-1 div.sk-parallel-item:first-child::after {align-self: flex-end;width: 50%;}#sk-container-id-1 div.sk-parallel-item:last-child::after {align-self: flex-start;width: 50%;}#sk-container-id-1 div.sk-parallel-item:only-child::after {width: 0;}#sk-container-id-1 div.sk-dashed-wrapped {border: 1px dashed gray;margin: 0 0.4em 0.5em 0.4em;box-sizing: border-box;padding-bottom: 0.4em;background-color: white;}#sk-container-id-1 div.sk-label label {font-family: monospace;font-weight: bold;display: inline-block;line-height: 1.2em;}#sk-container-id-1 div.sk-label-container {text-align: center;}#sk-container-id-1 div.sk-container {/* jupyter's `normalize.less` sets `[hidden] { display: none; }` but bootstrap.min.css set `[hidden] { display: none !important; }` so we also need the `!important` here to be able to override the default hidden behavior on the sphinx rendered scikit-learn.org. See: https://github.com/scikit-learn/scikit-learn/issues/21755 */display: inline-block !important;position: relative;}#sk-container-id-1 div.sk-text-repr-fallback {display: none;}</style><div id=\"sk-container-id-1\" class=\"sk-top-container\"><div class=\"sk-text-repr-fallback\"><pre>Pipeline(steps=[(&#x27;vectorizer&#x27;, CountVectorizer()),\n",
       "                (&#x27;classifier&#x27;, MultinomialNB())])</pre><b>In a Jupyter environment, please rerun this cell to show the HTML representation or trust the notebook. <br />On GitHub, the HTML representation is unable to render, please try loading this page with nbviewer.org.</b></div><div class=\"sk-container\" hidden><div class=\"sk-item sk-dashed-wrapped\"><div class=\"sk-label-container\"><div class=\"sk-label sk-toggleable\"><input class=\"sk-toggleable__control sk-hidden--visually\" id=\"sk-estimator-id-1\" type=\"checkbox\" ><label for=\"sk-estimator-id-1\" class=\"sk-toggleable__label sk-toggleable__label-arrow\">Pipeline</label><div class=\"sk-toggleable__content\"><pre>Pipeline(steps=[(&#x27;vectorizer&#x27;, CountVectorizer()),\n",
       "                (&#x27;classifier&#x27;, MultinomialNB())])</pre></div></div></div><div class=\"sk-serial\"><div class=\"sk-item\"><div class=\"sk-estimator sk-toggleable\"><input class=\"sk-toggleable__control sk-hidden--visually\" id=\"sk-estimator-id-2\" type=\"checkbox\" ><label for=\"sk-estimator-id-2\" class=\"sk-toggleable__label sk-toggleable__label-arrow\">CountVectorizer</label><div class=\"sk-toggleable__content\"><pre>CountVectorizer()</pre></div></div></div><div class=\"sk-item\"><div class=\"sk-estimator sk-toggleable\"><input class=\"sk-toggleable__control sk-hidden--visually\" id=\"sk-estimator-id-3\" type=\"checkbox\" ><label for=\"sk-estimator-id-3\" class=\"sk-toggleable__label sk-toggleable__label-arrow\">MultinomialNB</label><div class=\"sk-toggleable__content\"><pre>MultinomialNB()</pre></div></div></div></div></div></div></div>"
      ],
      "text/plain": [
       "Pipeline(steps=[('vectorizer', CountVectorizer()),\n",
       "                ('classifier', MultinomialNB())])"
      ]
     },
     "execution_count": 12,
     "metadata": {},
     "output_type": "execute_result"
    }
   ],
   "source": [
    "pipeline.fit(X_train, y_train)"
   ]
  },
  {
   "cell_type": "code",
   "execution_count": 13,
   "id": "13fc1b31",
   "metadata": {},
   "outputs": [],
   "source": [
    "y_pred = pipeline.predict(X_test)"
   ]
  },
  {
   "cell_type": "code",
   "execution_count": 14,
   "id": "dfd5a383",
   "metadata": {},
   "outputs": [],
   "source": [
    "accuracy = accuracy_score(y_test, y_pred)\n",
    "report = classification_report(y_test, y_pred)\n"
   ]
  },
  {
   "cell_type": "code",
   "execution_count": 15,
   "id": "5da2833a",
   "metadata": {},
   "outputs": [
    {
     "name": "stdout",
     "output_type": "stream",
     "text": [
      "Accuracy: 0.81\n",
      "Classification Report:\n",
      "               precision    recall  f1-score   support\n",
      "\n",
      "         neg       0.79      0.85      0.82       199\n",
      "         pos       0.84      0.78      0.81       201\n",
      "\n",
      "    accuracy                           0.81       400\n",
      "   macro avg       0.82      0.82      0.81       400\n",
      "weighted avg       0.82      0.81      0.81       400\n",
      "\n"
     ]
    }
   ],
   "source": [
    "print(f\"Accuracy: {accuracy:.2f}\")\n",
    "print(\"Classification Report:\\n\", report)"
   ]
  },
  {
   "cell_type": "code",
   "execution_count": null,
   "id": "8c71f5f1",
   "metadata": {},
   "outputs": [],
   "source": []
  }
 ],
 "metadata": {
  "kernelspec": {
   "display_name": "Python 3 (ipykernel)",
   "language": "python",
   "name": "python3"
  },
  "language_info": {
   "codemirror_mode": {
    "name": "ipython",
    "version": 3
   },
   "file_extension": ".py",
   "mimetype": "text/x-python",
   "name": "python",
   "nbconvert_exporter": "python",
   "pygments_lexer": "ipython3",
   "version": "3.11.3"
  }
 },
 "nbformat": 4,
 "nbformat_minor": 5
}
