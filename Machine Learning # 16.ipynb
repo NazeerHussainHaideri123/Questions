{
 "cells": [
  {
   "cell_type": "code",
   "execution_count": 1,
   "id": "6b8b48e7",
   "metadata": {},
   "outputs": [],
   "source": [
    "# Apply k-Fold Cross-Validation on a regression dataset and calculate the average RMSE (Root Mean Squared Error)"
   ]
  },
  {
   "cell_type": "code",
   "execution_count": 3,
   "id": "046c709a",
   "metadata": {},
   "outputs": [],
   "source": [
    "import numpy as np\n",
    "from sklearn.datasets import fetch_california_housing\n",
    "from sklearn.model_selection import KFold\n",
    "from sklearn.linear_model import LinearRegression\n",
    "from sklearn.metrics import mean_squared_error"
   ]
  },
  {
   "cell_type": "code",
   "execution_count": 4,
   "id": "ee90d6ed",
   "metadata": {},
   "outputs": [],
   "source": [
    "california_housing = fetch_california_housing()\n",
    "X = california_housing.data\n",
    "y = california_housing.target\n"
   ]
  },
  {
   "cell_type": "code",
   "execution_count": 5,
   "id": "a3dc5e06",
   "metadata": {},
   "outputs": [],
   "source": [
    "num_folds = 5"
   ]
  },
  {
   "cell_type": "code",
   "execution_count": 6,
   "id": "ae02ede1",
   "metadata": {},
   "outputs": [],
   "source": [
    "kf = KFold(n_splits=num_folds, shuffle=True, random_state=42)\n"
   ]
  },
  {
   "cell_type": "code",
   "execution_count": 7,
   "id": "b3afb2dd",
   "metadata": {},
   "outputs": [],
   "source": [
    "rmse_values = []"
   ]
  },
  {
   "cell_type": "code",
   "execution_count": 8,
   "id": "a5949c9c",
   "metadata": {},
   "outputs": [],
   "source": [
    "for train_index, test_index in kf.split(X):\n",
    "    X_train, X_test = X[train_index], X[test_index]\n",
    "    y_train, y_test = y[train_index], y[test_index]\n",
    "    \n",
    "    model = LinearRegression()\n",
    "    model.fit(X_train, y_train)\n",
    "    y_pred = model.predict(X_test)\n",
    "    rmse = np.sqrt(mean_squared_error(y_test, y_pred))\n",
    "    rmse_values.append(rmse)"
   ]
  },
  {
   "cell_type": "code",
   "execution_count": 9,
   "id": "0c83e5d9",
   "metadata": {},
   "outputs": [],
   "source": [
    "average_rmse = np.mean(rmse_values)"
   ]
  },
  {
   "cell_type": "code",
   "execution_count": 10,
   "id": "11bab00a",
   "metadata": {},
   "outputs": [
    {
     "name": "stdout",
     "output_type": "stream",
     "text": [
      "RMSE values for each fold: [0.7455813830127735, 0.7263995145741969, 0.7136408128217403, 0.7105285204790969, 0.7451043403520596]\n",
      "Average RMSE: 0.7282509142479734\n"
     ]
    }
   ],
   "source": [
    "print(\"RMSE values for each fold:\", rmse_values)\n",
    "print(\"Average RMSE:\", average_rmse)"
   ]
  },
  {
   "cell_type": "code",
   "execution_count": null,
   "id": "fd848d34",
   "metadata": {},
   "outputs": [],
   "source": []
  }
 ],
 "metadata": {
  "kernelspec": {
   "display_name": "Python 3 (ipykernel)",
   "language": "python",
   "name": "python3"
  },
  "language_info": {
   "codemirror_mode": {
    "name": "ipython",
    "version": 3
   },
   "file_extension": ".py",
   "mimetype": "text/x-python",
   "name": "python",
   "nbconvert_exporter": "python",
   "pygments_lexer": "ipython3",
   "version": "3.11.3"
  }
 },
 "nbformat": 4,
 "nbformat_minor": 5
}
